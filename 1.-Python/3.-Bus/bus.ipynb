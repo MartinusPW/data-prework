{
 "cells": [
  {
   "cell_type": "markdown",
   "metadata": {},
   "source": [
    "<img src=\"https://bit.ly/2VnXWr2\" width=\"100\" align=\"left\">"
   ]
  },
  {
   "cell_type": "markdown",
   "metadata": {},
   "source": [
    "# Bus\n",
    "\n",
    "This bus has a passenger entry and exit control system to monitor the number of occupants it carries and thus detect when there are too many.\n",
    "\n",
    "At each stop, the entry and exit of passengers is represented by a tuple consisting of two integer numbers.\n",
    "```\n",
    "bus_stop = (in, out)\n",
    "```\n",
    "The succession of stops is represented by a list of these tuples.\n",
    "```\n",
    "stops = [(in1, out1), (in2, out2), (in3, out3), (in4, out4)]\n",
    "```\n",
    "\n",
    "## Tools\n",
    "You don't necessarily need to use all the tools. Maybe you opt to use some of them or completely different ones, they are given to help you shape the exercise. Programming exercises can be solved in many different ways.\n",
    "* Data structures: **lists, tuples**\n",
    "* Loop: **while/for loops**\n",
    "* Functions: **min, max, len**\n",
    "\n",
    "## Tasks"
   ]
  },
  {
   "cell_type": "code",
   "execution_count": 1,
   "metadata": {},
   "outputs": [],
   "source": [
    "# Variables\n",
    "stops = [(10, 0), (4, 1), (3, 5), (3, 4), (5, 1), (1, 5), (5, 8), (4, 6), (2, 3)]"
   ]
  },
  {
   "cell_type": "markdown",
   "metadata": {},
   "source": [
    "#### 1. Calculate the number of stops."
   ]
  },
  {
   "cell_type": "code",
   "execution_count": 2,
   "metadata": {},
   "outputs": [
    {
     "name": "stdout",
     "output_type": "stream",
     "text": [
      "There are 9 stops in total\n"
     ]
    }
   ],
   "source": [
    "print(\"There are\",len(stops),\"stops in total\")"
   ]
  },
  {
   "cell_type": "markdown",
   "metadata": {},
   "source": [
    "#### 2. Assign to a variable a list whose elements are the number of passengers at each stop (in-out).\n",
    "Each item depends on the previous item in the list + in - out."
   ]
  },
  {
   "cell_type": "code",
   "execution_count": 3,
   "metadata": {},
   "outputs": [
    {
     "name": "stdout",
     "output_type": "stream",
     "text": [
      "[10, 3, -2, -1, 4, -4, -3, -2, -1]\n",
      "[10, 4, 3, 3, 5, 1, 5, 4, 2]\n",
      "[0, 1, 5, 4, 1, 5, 8, 6, 3]\n",
      "[10, 13, 11, 10, 14, 10, 7, 5, 4]\n",
      "The number of the current passenger at the stop number 1 is 10\n",
      "The number of the current passenger at the stop number 2 is 13\n",
      "The number of the current passenger at the stop number 3 is 11\n",
      "The number of the current passenger at the stop number 4 is 10\n",
      "The number of the current passenger at the stop number 5 is 14\n",
      "The number of the current passenger at the stop number 6 is 10\n",
      "The number of the current passenger at the stop number 7 is 7\n",
      "The number of the current passenger at the stop number 8 is 5\n",
      "The number of the current passenger at the stop number 9 is 4\n"
     ]
    }
   ],
   "source": [
    "n_passengers=[]\n",
    "n_passengers_in=[]\n",
    "n_passengers_out=[]\n",
    "current_passenger=[]\n",
    "\n",
    "for i in range (0,len(stops)):\n",
    "    list(stops[i])\n",
    "    n_passengers.append(stops[i][0]-stops[i][1])\n",
    "    n_passengers_in.append(stops[i][0])\n",
    "    n_passengers_out.append(stops[i][1])\n",
    "    current_passenger.append(sum(n_passengers))\n",
    "\n",
    "print(n_passengers)\n",
    "print(n_passengers_in) \n",
    "print(n_passengers_out)\n",
    "print(current_passenger)\n",
    "\n",
    "for i in range(0,len(current_passenger)):\n",
    "    print(\"The number of the current passenger at the stop number\",i+1,\"is\",current_passenger[i])\n",
    "    "
   ]
  },
  {
   "cell_type": "markdown",
   "metadata": {},
   "source": [
    "#### 3. Find the maximum occupation of the bus."
   ]
  },
  {
   "cell_type": "code",
   "execution_count": 4,
   "metadata": {},
   "outputs": [
    {
     "name": "stdout",
     "output_type": "stream",
     "text": [
      "The maximum occupation of the bus are 14 people\n"
     ]
    }
   ],
   "source": [
    "print(\"The maximum occupation of the bus are\",max(current_passenger), \"people\")"
   ]
  },
  {
   "cell_type": "markdown",
   "metadata": {},
   "source": [
    "#### 4. Calculate the average occupation. And the standard deviation."
   ]
  },
  {
   "cell_type": "code",
   "execution_count": 5,
   "metadata": {},
   "outputs": [
    {
     "name": "stdout",
     "output_type": "stream",
     "text": [
      "The average occupation of the bus is 9.333333333333334\n",
      "The standard deviation occupation of the bus is 3.197221015541813\n"
     ]
    }
   ],
   "source": [
    "import numpy as np\n",
    "mean_passengers=np.mean(current_passenger)\n",
    "std_passengers=np.std(current_passenger)\n",
    "\n",
    "print(\"The average occupation of the bus is\",mean_passengers)\n",
    "print(\"The standard deviation occupation of the bus is\",std_passengers)\n"
   ]
  },
  {
   "cell_type": "code",
   "execution_count": null,
   "metadata": {},
   "outputs": [],
   "source": []
  }
 ],
 "metadata": {
  "kernelspec": {
   "display_name": "Python 3",
   "language": "python",
   "name": "python3"
  },
  "language_info": {
   "codemirror_mode": {
    "name": "ipython",
    "version": 3
   },
   "file_extension": ".py",
   "mimetype": "text/x-python",
   "name": "python",
   "nbconvert_exporter": "python",
   "pygments_lexer": "ipython3",
   "version": "3.9.0"
  }
 },
 "nbformat": 4,
 "nbformat_minor": 2
}
