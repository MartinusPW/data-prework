{
 "cells": [
  {
   "cell_type": "markdown",
   "metadata": {},
   "source": [
    "<img src=\"https://bit.ly/2VnXWr2\" width=\"100\" align=\"left\"/>"
   ]
  },
  {
   "cell_type": "markdown",
   "metadata": {},
   "source": [
    "# Robin Hood\n",
    "Robin Hood has entered a competition to win the archery contest in Sherwood. With his bow and arrows, he needs to shoot on a target and try to hit as close as possible to the center.\n",
    "\n",
    "![](images/arrows.jpg)\n",
    "\n",
    "## Context\n",
    "In this challenge, the landing position of arrows shot by archers in the competition will be represented using 2-dimensional coordinates. \n",
    "\n",
    "In the 2-dimensional space, a point can be defined by a pair of values that correspond to the horizontal coordinate (x) and the vertical coordinate (y). For example, in our case, an arrow that hits the center of the archery target will land in position (0, 0) on the coordinate axes. \n",
    "\n",
    "The space can be divided into 4 zones (quadrants): Q1, Q2, Q3, Q4. If a point is in Q1, both its x coordinate and y coordinate are positive. Any point with a null x or y coordinate is considered to not belong to any quadrant. \n",
    "\n",
    "If you want to know more about the cartesian coordinate system, you can check this [link](https://en.wikipedia.org/wiki/Cartesian_coordinate_system). \n",
    "\n",
    "## Tools\n",
    "You don't necessarily need to use all the tools. Maybe you opt to use some of them or completely different ones, they are given to help you shape the exercise. Programming exercises can be solved in many different ways.\n",
    "* Data structures: **lists, sets, tuples**\n",
    "* Conditional statements: **if-elif-else**\n",
    "* Loop: **while/for**\n",
    "* Minimum (optional sorting)\n",
    "\n",
    "## Tasks\n",
    "Robin Hood has hit the following points:"
   ]
  },
  {
   "cell_type": "code",
   "execution_count": 1,
   "metadata": {},
   "outputs": [],
   "source": [
    "points = [(4, 5), (-0, 2), (4, 7), (1, -3), (3, -2), (4, 5), (3, 2), (5, 7), (-5, 7), (2, 2), (-4, 5), (0, -2),\n",
    "          (-4, 7), (-1, 3), (-3, 2), (-4, -5), (-3, 2), (5, 7), (5, 7), (2, 2), (9, 9), (-8, -9)]"
   ]
  },
  {
   "cell_type": "markdown",
   "metadata": {},
   "source": [
    "#### 1. Robin Hood is famous for hitting an arrow with another arrow. Find the coordinates of the points where an arrow hits another arrow."
   ]
  },
  {
   "cell_type": "code",
   "execution_count": 2,
   "metadata": {},
   "outputs": [
    {
     "name": "stdout",
     "output_type": "stream",
     "text": [
      "Coordinates where an arrow hits another arrow are : [(-3, 2), (4, 5), (5, 7), (2, 2)]\n"
     ]
    }
   ],
   "source": [
    "duplicate = list(set([dup for dup in points if points.count(dup) > 1]))\n",
    "print(\"Coordinates where an arrow hits another arrow are : \" + str(duplicate))\n",
    "\n",
    "           "
   ]
  },
  {
   "cell_type": "markdown",
   "metadata": {},
   "source": [
    "#### 2. Calculate how many arrows have fallen in each quadrant. \n",
    "**Note**: the arrows that fall in the axis (x=0 or y=0) don't belong to any quadrant."
   ]
  },
  {
   "cell_type": "code",
   "execution_count": 3,
   "metadata": {},
   "outputs": [
    {
     "name": "stdout",
     "output_type": "stream",
     "text": [
      "Total hits inside Quadrant 1 are 10\n",
      "Total hits inside Quadrant 2 are 2\n",
      "Total hits inside Quadrant 3 are 2\n",
      "Total hits inside Quadrant 4 are 6\n",
      "[4, 0, 4, 1, 3, 4, 3, 5, -5, 2, -4, 0, -4, -1, -3, -4, -3, 5, 5, 2, 9, -8]\n",
      "[5, 2, 7, -3, -2, 5, 2, 7, 7, 2, 5, -2, 7, 3, 2, -5, 2, 7, 7, 2, 9, -9]\n"
     ]
    }
   ],
   "source": [
    "x_coor=[]\n",
    "y_coor=[]\n",
    "Q1=0\n",
    "Q2=0\n",
    "Q3=0\n",
    "Q4=0\n",
    "            \n",
    "for i in range(0,len(points)):\n",
    "    list(points[i])\n",
    "    x_coor.append(points[i][0])\n",
    "    y_coor.append(points[i][1])\n",
    "    if (x_coor[i] > 0) & (y_coor[i] > 0):\n",
    "        Q1+=1\n",
    "    elif (x_coor[i] > 0) & (y_coor[i] < 0):\n",
    "        Q2+=1\n",
    "    elif (x_coor[i] < 0) & (y_coor[i] < 0):\n",
    "        Q3+=1\n",
    "    elif (x_coor[i] < 0) & (y_coor[i] > 0):\n",
    "        Q4+=1\n",
    "    elif (x_coor[i] == 0):\n",
    "        continue\n",
    "    elif (y_coor[i] == 0):\n",
    "        continue\n",
    "\n",
    "print(\"Total hits inside Quadrant 1 are\", Q1)\n",
    "print(\"Total hits inside Quadrant 2 are\", Q2)\n",
    "print(\"Total hits inside Quadrant 3 are\", Q3)\n",
    "print(\"Total hits inside Quadrant 4 are\", Q4)\n",
    "print(x_coor)\n",
    "print(y_coor)\n",
    "        "
   ]
  },
  {
   "cell_type": "markdown",
   "metadata": {},
   "source": [
    "#### 3. Find the point closest to the center. Calculate its distance to the center. \n",
    "Take into account that there might be more than one point at the minimum distance to the center.\n",
    "\n",
    "**Hint**: Use the Euclidean distance. You can find more information about it [here](https://en.wikipedia.org/wiki/Euclidean_distance).  \n",
    "**Hint**: Defining a function that calculates the distance to the center can help."
   ]
  },
  {
   "cell_type": "code",
   "execution_count": 4,
   "metadata": {},
   "outputs": [
    {
     "name": "stdout",
     "output_type": "stream",
     "text": [
      "The coordinates closest to the center is ( 0 , 2 )\n",
      "The coordinates closest to the center is ( 0 , -2 )\n"
     ]
    }
   ],
   "source": [
    "import numpy as np\n",
    "distance=[]\n",
    "for i in range(0,len(points)):\n",
    "    euclid_dist=np.sqrt(np.square(x_coor[i]-0) + np.square(y_coor[i]-0))\n",
    "    distance.append(euclid_dist)\n",
    "\n",
    "min_dist=min(distance)\n",
    "min_count=distance.count(min_dist)\n",
    "min_index=distance.index(min_dist)\n",
    "\n",
    "if min_count == 1:\n",
    "    print(\"The coordinates closest to the center is (\",x_coor[min_index],\",\",y_coor[min_index],\")\")\n",
    "elif min_count != 1:\n",
    "    for i in range (0,len(distance)):\n",
    "        if distance[i]==min_dist:\n",
    "            print(\"The coordinates closest to the center is (\",x_coor[i],\",\",y_coor[i],\")\")\n",
    "    \n",
    "    "
   ]
  },
  {
   "cell_type": "markdown",
   "metadata": {},
   "source": [
    "#### 4. If the archery target has a radius of 9, calculate the number of arrows that won't hit the target. \n",
    "**Hint**: Use the function created in step 3. "
   ]
  },
  {
   "cell_type": "code",
   "execution_count": 5,
   "metadata": {},
   "outputs": [
    {
     "name": "stdout",
     "output_type": "stream",
     "text": [
      "[6.4031242374328485, 2.0, 8.06225774829855, 3.1622776601683795, 3.605551275463989, 6.4031242374328485, 3.605551275463989, 8.602325267042627, 8.602325267042627, 2.8284271247461903, 6.4031242374328485, 2.0, 8.06225774829855, 3.1622776601683795, 3.605551275463989, 6.4031242374328485, 3.605551275463989, 8.602325267042627, 8.602325267042627, 2.8284271247461903, 12.727922061357855, 12.041594578792296]\n",
      "There are 2 arrows that won't hit the target\n"
     ]
    }
   ],
   "source": [
    "missed=0\n",
    "print(distance)\n",
    "for i in range (0,len(distance)):\n",
    "    if distance[i] > 9:\n",
    "        missed+=1\n",
    "\n",
    "print(\"There are\", missed, \"arrows that won't hit the target\")        \n",
    "    "
   ]
  },
  {
   "cell_type": "code",
   "execution_count": null,
   "metadata": {},
   "outputs": [],
   "source": []
  },
  {
   "cell_type": "code",
   "execution_count": null,
   "metadata": {},
   "outputs": [],
   "source": []
  }
 ],
 "metadata": {
  "kernelspec": {
   "display_name": "Python 3",
   "language": "python",
   "name": "python3"
  },
  "language_info": {
   "codemirror_mode": {
    "name": "ipython",
    "version": 3
   },
   "file_extension": ".py",
   "mimetype": "text/x-python",
   "name": "python",
   "nbconvert_exporter": "python",
   "pygments_lexer": "ipython3",
   "version": "3.9.0"
  }
 },
 "nbformat": 4,
 "nbformat_minor": 2
}
