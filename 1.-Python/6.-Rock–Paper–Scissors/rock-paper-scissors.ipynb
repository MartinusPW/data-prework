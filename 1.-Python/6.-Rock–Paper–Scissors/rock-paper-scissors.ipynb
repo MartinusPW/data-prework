{
 "cells": [
  {
   "cell_type": "markdown",
   "metadata": {},
   "source": [
    "<img src=\"https://bit.ly/2VnXWr2\" width=\"100\" align=\"left\">"
   ]
  },
  {
   "cell_type": "markdown",
   "metadata": {},
   "source": [
    "# Rock, Paper & Scissors\n",
    "\n",
    "Let's play the famous game against our computer. You can check the rules [here](https://en.wikipedia.org/wiki/Rock%E2%80%93paper%E2%80%93scissors). \n",
    "\n",
    "## Task\n",
    "Create a program that imitates the playability of the well known game of rock, paper, scissors. Follow the guidelines provided.\n",
    "\n",
    "## Tools\n",
    "1. Loop: **for/while**\n",
    "2. Functions: **input(), print()...**\n",
    "3. Conditional statements: **if, elif, else**\n",
    "4. Definition of functions. Modular programming\n",
    "5. Import modules\n",
    "\n",
    "**To solve this challenge, the use of functions is recommended.**\n",
    "\n",
    "#### 1. Import the choice function of the random module."
   ]
  },
  {
   "cell_type": "code",
   "execution_count": 1,
   "metadata": {},
   "outputs": [],
   "source": [
    "from random import choice\n",
    "import random"
   ]
  },
  {
   "cell_type": "markdown",
   "metadata": {},
   "source": [
    "#### 2. Create a list that includes the 3 possible gesture options of the game: 'rock', 'paper' or 'scissors'. Store the list in a variable called `gestures`."
   ]
  },
  {
   "cell_type": "code",
   "execution_count": 2,
   "metadata": {},
   "outputs": [],
   "source": [
    "gestures=[\"rock\",\"paper\",\"scissors\"]"
   ]
  },
  {
   "cell_type": "markdown",
   "metadata": {},
   "source": [
    "#### 3. Create a variable called `n_rounds` to store the maximum number of rounds to play in a game. \n",
    "Remember that the number of rounds must be odd: 1, 3, 5, ..."
   ]
  },
  {
   "cell_type": "code",
   "execution_count": 3,
   "metadata": {},
   "outputs": [
    {
     "name": "stdout",
     "output_type": "stream",
     "text": [
      "Please enter the maximum number of rounds:9\n"
     ]
    }
   ],
   "source": [
    "n_rounds=int(input(\"Please enter the maximum number of rounds:\"))\n",
    "\n",
    "while n_rounds % 2 == 0:\n",
    "    print(\"Please enter an odd number!\")\n",
    "    n_rounds=int(input(\"Please enter the maximum number of rounds:\"))"
   ]
  },
  {
   "cell_type": "markdown",
   "metadata": {},
   "source": [
    "#### 4. Create a variable called `` to store the number of rounds that a player must win to win the game.\n",
    "**Hint**: the value stored in `rounds_to_win` depends on the value of `n_rounds`. "
   ]
  },
  {
   "cell_type": "code",
   "execution_count": 4,
   "metadata": {},
   "outputs": [
    {
     "name": "stdout",
     "output_type": "stream",
     "text": [
      "5\n"
     ]
    }
   ],
   "source": [
    "import math\n",
    "if n_rounds == 1:\n",
    "    rounds_to_win = 1\n",
    "elif n_rounds != 1:\n",
    "    rounds_to_win = math.ceil(n_rounds/2)\n",
    "\n",
    "print(rounds_to_win)"
   ]
  },
  {
   "cell_type": "markdown",
   "metadata": {},
   "source": [
    "#### 5. Create two variables to store the number of rounds that the computer and the player have won. Call these variables `cpu_score` and `player_score`."
   ]
  },
  {
   "cell_type": "code",
   "execution_count": 5,
   "metadata": {},
   "outputs": [],
   "source": [
    "cpu_score=[]\n",
    "player_score=[]"
   ]
  },
  {
   "cell_type": "markdown",
   "metadata": {},
   "source": [
    "#### 6. Define a function that randomly returns one of the 3 gesture options.\n",
    "You will use this function to simulate the gesture choice of the computer. "
   ]
  },
  {
   "cell_type": "code",
   "execution_count": 6,
   "metadata": {},
   "outputs": [],
   "source": [
    "def comp_gestures(gestures):\n",
    "    comp_gest=0\n",
    "    rand_index=random.randint(0, 2)\n",
    "    comp_gest=str(gestures[rand_index])\n",
    "    return comp_gest"
   ]
  },
  {
   "cell_type": "markdown",
   "metadata": {},
   "source": [
    "#### 7. Define a function that asks the player which is the gesture he or she wants to show: 'rock', 'paper' or 'scissors'.\n",
    "The player should only be allowed to choose one of the 3 gesture options. If the player's choice is not rock, paper or scissors, keep asking until it is."
   ]
  },
  {
   "cell_type": "code",
   "execution_count": 7,
   "metadata": {},
   "outputs": [],
   "source": [
    "def player_gestures(gestures):\n",
    "    while True:\n",
    "        print(\"Please choose between rock, paper, or scissors!\")\n",
    "        player_gest=str(input(\"Please enter your gestures:\"))\n",
    "        \n",
    "        found_gest = False\n",
    "        for i in gestures:\n",
    "            if player_gest == i:\n",
    "                found_gest = True\n",
    "        if found_gest:\n",
    "            return player_gest\n",
    "            break\n",
    "        else:\n",
    "            continue"
   ]
  },
  {
   "cell_type": "markdown",
   "metadata": {},
   "source": [
    "#### 8. Define a function that checks who won a round. \n",
    "The function should return 0 if there is a tie, 1 if the computer wins and 2 if the player wins."
   ]
  },
  {
   "cell_type": "code",
   "execution_count": 8,
   "metadata": {},
   "outputs": [],
   "source": [
    "def winner(comp_gest,player_gest,cpu_score,player_score):\n",
    "    who_wins=0\n",
    "    if comp_gest == player_gest:\n",
    "        player_score.append(0)\n",
    "        cpu_score.append(0)\n",
    "        print(\"---------------- GAME\",len(cpu_score),\"-----------------\")\n",
    "        return who_wins,player_score,cpu_score\n",
    "    elif (comp_gest == \"rock\") & (player_gest == \"paper\"):\n",
    "        who_wins=2\n",
    "        player_score.append(1)\n",
    "        cpu_score.append(0)\n",
    "        print(\"---------------- GAME\",len(cpu_score),\"-----------------\")\n",
    "        return who_wins,player_score,cpu_score\n",
    "    elif (comp_gest == \"paper\") & (player_gest == \"scissors\"):\n",
    "        who_wins=2\n",
    "        player_score.append(1)\n",
    "        cpu_score.append(0)\n",
    "        print(\"---------------- GAME\",len(cpu_score),\"-----------------\")\n",
    "        return who_wins,player_score,cpu_score\n",
    "    elif (comp_gest == \"scissors\") & (player_gest == \"rock\"):\n",
    "        who_wins=2\n",
    "        player_score.append(1)\n",
    "        cpu_score.append(0)\n",
    "        print(\"---------------- GAME\",len(cpu_score),\"-----------------\")\n",
    "        return who_wins,player_score,cpu_score    \n",
    "    elif (comp_gest == \"rock\") & (player_gest == \"scissors\"):\n",
    "        who_wins=1\n",
    "        cpu_score.append(1)\n",
    "        player_score.append(0)\n",
    "        print(\"---------------- GAME\",len(cpu_score),\"-----------------\")\n",
    "        return who_wins,player_score,cpu_score\n",
    "    elif (comp_gest == \"scissors\") & (player_gest == \"paper\"):\n",
    "        who_wins=1\n",
    "        cpu_score.append(1)\n",
    "        player_score.append(0)\n",
    "        print(\"---------------- GAME\",len(cpu_score),\"-----------------\")\n",
    "        return who_wins,player_score,cpu_score  \n",
    "    elif (comp_gest == \"paper\") & (player_gest == \"rock\"):\n",
    "        who_wins=1\n",
    "        cpu_score.append(1)\n",
    "        player_score.append(0)\n",
    "        print(\"---------------- GAME\",len(cpu_score),\"-----------------\")\n",
    "        return who_wins,player_score,cpu_score"
   ]
  },
  {
   "cell_type": "markdown",
   "metadata": {},
   "source": [
    "#### 9. Define a function that prints the choice of the computer, the choice of the player and a message that announces who won the current round. \n",
    "You should also use this function to update the variables that count the number of rounds that the computer and the player have won. The score of the winner increases by one point. If there is a tie, the score does not increase."
   ]
  },
  {
   "cell_type": "code",
   "execution_count": 9,
   "metadata": {},
   "outputs": [],
   "source": [
    "def result(comp_gest,player_gest,who_wins):\n",
    "    print(\"The computer plays a\",comp_gest, \"gesture\")\n",
    "    print(\"The player plays a\",player_gest, \"gesture\")\n",
    "    print(\"-----------------------------------------\")\n",
    "    if who_wins == 0:\n",
    "        print(\"The GAME is TIED\")\n",
    "        print(\"#########################################\")\n",
    "    elif who_wins == 1:\n",
    "        print(\"The COMPUTER WINS the game\")\n",
    "        print(\"#########################################\")\n",
    "    elif who_wins == 2:\n",
    "        print(\"The PLAYER WINS the game\")\n",
    "        print(\"#########################################\")"
   ]
  },
  {
   "cell_type": "markdown",
   "metadata": {},
   "source": [
    "#### 10. Now it's time to code the execution of the game using the functions and variables you defined above. \n",
    "\n",
    "First, create a loop structure that repeats while no player reaches the minimum score necessary to win and the number of rounds is less than the maximum number of rounds to play in a game.  \n",
    "\n",
    "Inside the loop, use the functions and variables above to create the execution of a round: ask for the player's choice, generate the random choice of the computer, show the round results, update the scores, etc. "
   ]
  },
  {
   "cell_type": "code",
   "execution_count": 10,
   "metadata": {},
   "outputs": [
    {
     "name": "stdout",
     "output_type": "stream",
     "text": [
      "Please choose between rock, paper, or scissors!\n",
      "Please enter your gestures:rock\n",
      "---------------- GAME 1 -----------------\n",
      "The computer plays a paper gesture\n",
      "The player plays a rock gesture\n",
      "-----------------------------------------\n",
      "The COMPUTER WINS the game\n",
      "#########################################\n",
      "Please choose between rock, paper, or scissors!\n",
      "Please enter your gestures:paper\n",
      "---------------- GAME 2 -----------------\n",
      "The computer plays a paper gesture\n",
      "The player plays a paper gesture\n",
      "-----------------------------------------\n",
      "The GAME is TIED\n",
      "#########################################\n",
      "Please choose between rock, paper, or scissors!\n",
      "Please enter your gestures:rock\n",
      "---------------- GAME 3 -----------------\n",
      "The computer plays a scissors gesture\n",
      "The player plays a rock gesture\n",
      "-----------------------------------------\n",
      "The PLAYER WINS the game\n",
      "#########################################\n",
      "Please choose between rock, paper, or scissors!\n",
      "Please enter your gestures:scissors\n",
      "---------------- GAME 4 -----------------\n",
      "The computer plays a scissors gesture\n",
      "The player plays a scissors gesture\n",
      "-----------------------------------------\n",
      "The GAME is TIED\n",
      "#########################################\n",
      "Please choose between rock, paper, or scissors!\n",
      "Please enter your gestures:asd\n",
      "Please choose between rock, paper, or scissors!\n",
      "Please enter your gestures:paper\n",
      "---------------- GAME 5 -----------------\n",
      "The computer plays a paper gesture\n",
      "The player plays a paper gesture\n",
      "-----------------------------------------\n",
      "The GAME is TIED\n",
      "#########################################\n",
      "Please choose between rock, paper, or scissors!\n",
      "Please enter your gestures:rp\n",
      "Please choose between rock, paper, or scissors!\n",
      "Please enter your gestures:rock\n",
      "---------------- GAME 6 -----------------\n",
      "The computer plays a scissors gesture\n",
      "The player plays a rock gesture\n",
      "-----------------------------------------\n",
      "The PLAYER WINS the game\n",
      "#########################################\n",
      "Please choose between rock, paper, or scissors!\n",
      "Please enter your gestures:paper\n",
      "---------------- GAME 7 -----------------\n",
      "The computer plays a paper gesture\n",
      "The player plays a paper gesture\n",
      "-----------------------------------------\n",
      "The GAME is TIED\n",
      "#########################################\n",
      "Please choose between rock, paper, or scissors!\n",
      "Please enter your gestures:scissors\n",
      "---------------- GAME 8 -----------------\n",
      "The computer plays a rock gesture\n",
      "The player plays a scissors gesture\n",
      "-----------------------------------------\n",
      "The COMPUTER WINS the game\n",
      "#########################################\n",
      "Please choose between rock, paper, or scissors!\n",
      "Please enter your gestures:paper\n",
      "---------------- GAME 9 -----------------\n",
      "The computer plays a scissors gesture\n",
      "The player plays a paper gesture\n",
      "-----------------------------------------\n",
      "The COMPUTER WINS the game\n",
      "#########################################\n",
      "-----------------------------------------\n",
      "CHECKING THE POSSIBLE WINNER!!\n"
     ]
    }
   ],
   "source": [
    "while ((sum(cpu_score) < rounds_to_win) | (sum(player_score) < rounds_to_win)) & ( len(cpu_score) < n_rounds):\n",
    "    gest_player=player_gestures(gestures)\n",
    "    gest_comp=comp_gestures(gestures)\n",
    "    who_wins=winner(gest_comp,gest_player,cpu_score,player_score)[0]\n",
    "    result(gest_comp,gest_player,who_wins)\n",
    "    if (sum(cpu_score) == rounds_to_win) | (sum(player_score) == rounds_to_win):\n",
    "        print(\"-----------------------------------------\")\n",
    "        print(\"The WINNER of the game has been found\")\n",
    "        break    \n",
    "    elif ( len(cpu_score) == n_rounds):\n",
    "        print(\"-----------------------------------------\")\n",
    "        print(\"CHECKING THE POSSIBLE WINNER!!\")\n",
    "        continue"
   ]
  },
  {
   "cell_type": "markdown",
   "metadata": {},
   "source": [
    "#### 11. Print the winner of the game based on who won more rounds.\n",
    "Remember that the game might be tied. "
   ]
  },
  {
   "cell_type": "code",
   "execution_count": 11,
   "metadata": {},
   "outputs": [
    {
     "name": "stdout",
     "output_type": "stream",
     "text": [
      "<<<<<<<<<<<<<<<<<<<<<<<<<<<<<<<<<<<<<<<<<<<<<<\n",
      "THE COMPUTER HAS WON THE MATCH\n",
      ">>>>>>>>>>>>>>>>>>>>>>>>>>>>>>>>>>>>>>>>>>>>>>\n"
     ]
    }
   ],
   "source": [
    "if (sum(cpu_score) == sum(player_score)):\n",
    "    print(\"<<<<<<<<<<<<<<<<<<<<<<<<<<<<<<<<<<<<<<<<<<<<<<\")\n",
    "    print(\"THE GAME IS TIED\")\n",
    "    print(\">>>>>>>>>>>>>>>>>>>>>>>>>>>>>>>>>>>>>>>>>>>>>>\")\n",
    "elif (sum(cpu_score) > sum(player_score)):\n",
    "    print(\"<<<<<<<<<<<<<<<<<<<<<<<<<<<<<<<<<<<<<<<<<<<<<<\")\n",
    "    print(\"THE COMPUTER HAS WON THE MATCH\")\n",
    "    print(\">>>>>>>>>>>>>>>>>>>>>>>>>>>>>>>>>>>>>>>>>>>>>>\")\n",
    "elif (sum(cpu_score) < sum(player_score)):\n",
    "    print(\"<<<<<<<<<<<<<<<<<<<<<<<<<<<<<<<<<<<<<<<<<<<<<<\")\n",
    "    print(\"THE PLAYER HAS WON THE MATCH\")\n",
    "    print(\">>>>>>>>>>>>>>>>>>>>>>>>>>>>>>>>>>>>>>>>>>>>>>\")\n",
    "    "
   ]
  },
  {
   "cell_type": "markdown",
   "metadata": {},
   "source": [
    "# Bonus: Rock, Paper, Scissors, Lizard & Spock\n",
    "![](images/rpsls.jpg)\n",
    "\n",
    "In this challenge, you need to improve the previous game by adding two new options. To know more about the rules of the improved version of rock, paper, scissors, check this [link](http://www.samkass.com/theories/RPSSL.html). \n",
    "\n",
    "In addition, you will also need to improve how the game interacts with the player: the number of rounds to play, which must be an odd number, will be requested to the user until a valid number is entered. Define a new function to make that request.\n",
    "\n",
    "**Hint**: Try to reuse the code that you already coded in the previous challenge. If your code is efficient, this bonus will only consist of simple modifications to the original game."
   ]
  },
  {
   "cell_type": "code",
   "execution_count": 1,
   "metadata": {},
   "outputs": [
    {
     "name": "stdout",
     "output_type": "stream",
     "text": [
      "Please enter the maximum number of rounds:3\n",
      "Please choose between rock, paper, scissors, lizard or spock!\n",
      "Please enter your gestures:spock\n",
      "---------------- GAME 1 -----------------\n",
      "[2, [1], [0]]\n",
      "The computer plays a scissors gesture\n",
      "The player plays a spock gesture\n",
      "-----------------------------------------\n",
      "The PLAYER WINS the game\n",
      "#########################################\n",
      "Please choose between rock, paper, scissors, lizard or spock!\n",
      "Please enter your gestures:rock\n",
      "---------------- GAME 2 -----------------\n",
      "[0, [1, 0], [0, 0]]\n",
      "The computer plays a rock gesture\n",
      "The player plays a rock gesture\n",
      "-----------------------------------------\n",
      "The GAME is TIED\n",
      "#########################################\n",
      "Please choose between rock, paper, scissors, lizard or spock!\n",
      "Please enter your gestures:scissors\n",
      "---------------- GAME 3 -----------------\n",
      "[2, [1, 0, 1], [0, 0, 0]]\n",
      "The computer plays a paper gesture\n",
      "The player plays a scissors gesture\n",
      "-----------------------------------------\n",
      "The PLAYER WINS the game\n",
      "#########################################\n",
      "-----------------------------------------\n",
      "The WINNER of the game has been found\n",
      "<<<<<<<<<<<<<<<<<<<<<<<<<<<<<<<<<<<<<<<<<<<<<<\n",
      "THE PLAYER HAS WON THE MATCH\n",
      ">>>>>>>>>>>>>>>>>>>>>>>>>>>>>>>>>>>>>>>>>>>>>>\n"
     ]
    }
   ],
   "source": [
    "from random import choice\n",
    "import random\n",
    "import math\n",
    "\n",
    "#POSSIBLE GESTURES OF THE GAME\n",
    "gestures2=[\"rock\",\"paper\",\"scissors\",\"lizard\",\"spock\"]\n",
    "\n",
    "#MAXIMUM NUMBER OF ROUNDS\n",
    "n_rounds2=int(input(\"Please enter the maximum number of rounds:\"))\n",
    "while n_rounds2 % 2 == 0:\n",
    "    print(\"Please enter an odd number!\")\n",
    "    n_rounds2=int(input(\"Please enter the maximum number of rounds:\"))\n",
    "\n",
    "#ROUNDS TO WIN THE GAME\n",
    "if n_rounds2 == 1:\n",
    "    rounds_to_win2 = 1\n",
    "elif n_rounds2 != 1:\n",
    "    rounds_to_win2 = math.ceil(n_rounds2/2)\n",
    "\n",
    "#INITIALISE SCORES    \n",
    "cpu_score2=[]\n",
    "player_score2=[]    \n",
    "\n",
    "#FUNCTION COMPUTER GESTURES\n",
    "def comp_gestures2(gestures2):\n",
    "    comp_gest2=0\n",
    "    rand_index=random.randint(0, 4)\n",
    "    comp_gest2=str(gestures2[rand_index])\n",
    "    return comp_gest2\n",
    "\n",
    "#FUNCTION PLAYER GESTURES\n",
    "def player_gestures2(gestures2):\n",
    "    while True:\n",
    "        print(\"Please choose between rock, paper, scissors, lizard or spock!\")\n",
    "        player_gest2=str(input(\"Please enter your gestures:\"))\n",
    "        \n",
    "        found_gest2 = False\n",
    "        for i in gestures2:\n",
    "            if player_gest2 == i:\n",
    "                found_gest2 = True\n",
    "        if found_gest2:\n",
    "            return player_gest2\n",
    "            break\n",
    "        else:\n",
    "            continue\n",
    "\n",
    "#FUNCTION DETERMINE THE SCORE           \n",
    "def winner2(comp_gest2,player_gest2,cpu_score2,player_score2):\n",
    "    who_wins2=0\n",
    "    if comp_gest2 == player_gest2:\n",
    "        player_score2.append(0)\n",
    "        cpu_score2.append(0)\n",
    "        print(\"---------------- GAME\",len(cpu_score2),\"-----------------\")\n",
    "        return [who_wins2,player_score2,cpu_score2]\n",
    "#ROCK-PAPER-SCISSOR TRIANGLE\n",
    "#WINNER PLAYER\n",
    "    elif (comp_gest2 == \"rock\") & (player_gest2 == \"paper\"):\n",
    "        who_wins2=2\n",
    "        player_score2.append(1)\n",
    "        cpu_score2.append(0)\n",
    "        print(\"---------------- GAME\",len(cpu_score2),\"-----------------\")\n",
    "        return [who_wins2,player_score2,cpu_score2]\n",
    "    elif (comp_gest2 == \"paper\") & (player_gest2 == \"scissors\"):\n",
    "        who_wins2=2\n",
    "        player_score2.append(1)\n",
    "        cpu_score2.append(0)\n",
    "        print(\"---------------- GAME\",len(cpu_score2),\"-----------------\")\n",
    "        return [who_wins2,player_score2,cpu_score2]\n",
    "    elif (comp_gest2 == \"scissors\") & (player_gest2 == \"spock\"):\n",
    "        who_wins2=2\n",
    "        player_score2.append(1)\n",
    "        cpu_score2.append(0)\n",
    "        print(\"---------------- GAME\",len(cpu_score2),\"-----------------\")\n",
    "        return [who_wins2,player_score2,cpu_score2] \n",
    "    elif (comp_gest2 == \"spock\") & (player_gest2 == \"lizard\"):\n",
    "        who_wins2=2\n",
    "        player_score2.append(1)\n",
    "        cpu_score2.append(0)\n",
    "        print(\"---------------- GAME\",len(cpu_score2),\"-----------------\")\n",
    "        return [who_wins2,player_score2,cpu_score2]\n",
    "    elif (comp_gest2 == \"lizard\") & (player_gest2 == \"rock\"):\n",
    "        who_wins2=2\n",
    "        player_score2.append(1)\n",
    "        cpu_score2.append(0)\n",
    "        print(\"---------------- GAME\",len(cpu_score2),\"-----------------\")\n",
    "        return [who_wins2,player_score2,cpu_score2] \n",
    "#WINNER COMPUTER    \n",
    "    elif (comp_gest2 == \"rock\") & (player_gest2 == \"lizard\"):\n",
    "        who_wins2=1\n",
    "        cpu_score2.append(1)\n",
    "        player_score2.append(0)\n",
    "        print(\"---------------- GAME\",len(cpu_score2),\"-----------------\")\n",
    "        return [who_wins2,player_score2,cpu_score2]\n",
    "    elif (comp_gest2 == \"lizard\") & (player_gest2 == \"spock\"):\n",
    "        who_wins2=1\n",
    "        cpu_score2.append(1)\n",
    "        player_score2.append(0)\n",
    "        print(\"---------------- GAME\",len(cpu_score2),\"-----------------\")\n",
    "        return [who_wins2,player_score2,cpu_score2]\n",
    "    elif (comp_gest2 == \"spock\") & (player_gest2 == \"scissors\"):\n",
    "        who_wins2=1\n",
    "        cpu_score2.append(1)\n",
    "        player_score2.append(0)\n",
    "        print(\"---------------- GAME\",len(cpu_score2),\"-----------------\")\n",
    "        return [who_wins2,player_score2,cpu_score2]\n",
    "    elif (comp_gest2 == \"scissors\") & (player_gest2 == \"paper\"):\n",
    "        who_wins2=1\n",
    "        cpu_score2.append(1)\n",
    "        player_score2.append(0)\n",
    "        print(\"---------------- GAME\",len(cpu_score2),\"-----------------\")\n",
    "        return [who_wins2,player_score2,cpu_score2]\n",
    "    elif (comp_gest2 == \"paper\") & (player_gest2 == \"rock\"):\n",
    "        who_wins2=1\n",
    "        cpu_score2.append(1)\n",
    "        player_score2.append(0)\n",
    "        print(\"---------------- GAME\",len(cpu_score2),\"-----------------\")\n",
    "        return [who_wins2,player_score2,cpu_score2]\n",
    "\n",
    "#DEFINING THE WINNER EACH ROUND\n",
    "def result2(comp_gest2,player_gest2,who_wins2):\n",
    "    print(\"The computer plays a\",comp_gest2, \"gesture\")\n",
    "    print(\"The player plays a\",player_gest2, \"gesture\")\n",
    "    print(\"-----------------------------------------\")\n",
    "    if who_wins2 == 0:\n",
    "        print(\"The GAME is TIED\")\n",
    "        print(\"#########################################\")\n",
    "    elif who_wins2 == 1:\n",
    "        print(\"The COMPUTER WINS the game\")\n",
    "        print(\"#########################################\")\n",
    "    elif who_wins2 == 2:\n",
    "        print(\"The PLAYER WINS the game\")\n",
    "        print(\"#########################################\")\n",
    "\n",
    "#MAIN PROGRAM OF GAME\n",
    "while ((sum(cpu_score2) < rounds_to_win2) | (sum(player_score2) < rounds_to_win2)) & ( len(cpu_score2) < n_rounds2):\n",
    "    gest_comp2 = comp_gestures2(gestures2)\n",
    "    gest_player2 = player_gestures2(gestures2)\n",
    "    who_wins3=[]\n",
    "    who_wins3 = winner2(gest_comp2,gest_player2,cpu_score2,player_score2)\n",
    "    print(who_wins3)\n",
    "    result2(gest_comp2,gest_player2,who_wins3[0])\n",
    "    if (sum(cpu_score2) == rounds_to_win2) | (sum(player_score2) == rounds_to_win2):\n",
    "        print(\"-----------------------------------------\")\n",
    "        print(\"The WINNER of the game has been found\")\n",
    "        break    \n",
    "    elif ( len(cpu_score2) == n_rounds2):\n",
    "        print(\"-----------------------------------------\")\n",
    "        print(\"CHECKING THE POSSIBLE WINNER!!\")\n",
    "        continue \n",
    "        \n",
    "#CHECKING POSSIBLE WINNER\n",
    "if (sum(cpu_score2) == sum(player_score2)):\n",
    "    print(\"<<<<<<<<<<<<<<<<<<<<<<<<<<<<<<<<<<<<<<<<<<<<<<\")\n",
    "    print(\"THE GAME IS TIED\")\n",
    "    print(\">>>>>>>>>>>>>>>>>>>>>>>>>>>>>>>>>>>>>>>>>>>>>>\")\n",
    "elif (sum(cpu_score2) > sum(player_score2)):\n",
    "    print(\"<<<<<<<<<<<<<<<<<<<<<<<<<<<<<<<<<<<<<<<<<<<<<<\")\n",
    "    print(\"THE COMPUTER HAS WON THE MATCH\")\n",
    "    print(\">>>>>>>>>>>>>>>>>>>>>>>>>>>>>>>>>>>>>>>>>>>>>>\")\n",
    "elif (sum(cpu_score2) < sum(player_score2)):\n",
    "    print(\"<<<<<<<<<<<<<<<<<<<<<<<<<<<<<<<<<<<<<<<<<<<<<<\")\n",
    "    print(\"THE PLAYER HAS WON THE MATCH\")\n",
    "    print(\">>>>>>>>>>>>>>>>>>>>>>>>>>>>>>>>>>>>>>>>>>>>>>\")\n",
    "    "
   ]
  },
  {
   "cell_type": "raw",
   "metadata": {},
   "source": []
  },
  {
   "cell_type": "raw",
   "metadata": {},
   "source": []
  },
  {
   "cell_type": "code",
   "execution_count": null,
   "metadata": {},
   "outputs": [],
   "source": []
  },
  {
   "cell_type": "code",
   "execution_count": null,
   "metadata": {},
   "outputs": [],
   "source": []
  }
 ],
 "metadata": {
  "kernelspec": {
   "display_name": "Python 3",
   "language": "python",
   "name": "python3"
  },
  "language_info": {
   "codemirror_mode": {
    "name": "ipython",
    "version": 3
   },
   "file_extension": ".py",
   "mimetype": "text/x-python",
   "name": "python",
   "nbconvert_exporter": "python",
   "pygments_lexer": "ipython3",
   "version": "3.9.0"
  }
 },
 "nbformat": 4,
 "nbformat_minor": 2
}
